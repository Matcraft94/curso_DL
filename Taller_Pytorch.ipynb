{
  "cells": [
    {
      "cell_type": "markdown",
      "metadata": {
        "id": "ZDH2DqUOArKF"
      },
      "source": [
        "# Taller\n",
        "1. Crear un tensor de talla (5,4,2)\n",
        "2. Agregar una dimensión al tensor anterior\n",
        "3. Permutar la dimensión 1 con la dimensión 3 del vector\n",
        "4. Programar la función de pérdida MSE \n",
        "$$MSE = \\frac{1}{n}\\sum_{i=1}^n (Y_i-\\hat{Y_i})^2$$\n",
        "5. Crear un modelo con las siguientes capas:\n",
        "        a. Una capa concolucional 2d con input channels = 3 y output channels = 18\n",
        "        b. Una capa MaxPool2d con kernel = 2 stride = 2 y padding = 0\n",
        "        c. Una capa lineal ( Encuentra el valor para las dimensiones de entrada) con output channels=64\n",
        "        d. Una capa lineal ( Encuentra el valor para las dimensiones de entrada) con output channels=64\n",
        "6. Describir el modelo\n",
        "7. Calcular el número de parámetros del modelo manualmente y compararlo utilizando la función torchsummary\n",
        "PD : #Convolution: (# Input channels × kernel height × kernel width + 1 ) × # Output channels\n"
      ]
    },
    {
      "cell_type": "code",
      "execution_count": 20,
      "metadata": {
        "colab": {
          "base_uri": "https://localhost:8080/"
        },
        "id": "BTfOT4ReVuQg",
        "outputId": "7ff1726e-4a2d-4c40-ab4d-f212263148c5"
      },
      "outputs": [
        {
          "name": "stdout",
          "output_type": "stream",
          "text": [
            "Using torch 1.13.0\n"
          ]
        }
      ],
      "source": [
        "import torch\n",
        "print(\"Using torch\", torch.__version__)"
      ]
    },
    {
      "cell_type": "code",
      "execution_count": 21,
      "metadata": {
        "colab": {
          "base_uri": "https://localhost:8080/"
        },
        "id": "KqvUyG-iVs83",
        "outputId": "83a841a4-e903-4ffc-9727-bdfa384cd684"
      },
      "outputs": [
        {
          "data": {
            "text/plain": [
              "<torch._C.Generator at 0x1cdf7c4b210>"
            ]
          },
          "execution_count": 21,
          "metadata": {},
          "output_type": "execute_result"
        }
      ],
      "source": [
        "torch.manual_seed(42)"
      ]
    },
    {
      "cell_type": "code",
      "execution_count": 22,
      "metadata": {
        "id": "Ak8HuVQ8fJVM"
      },
      "outputs": [],
      "source": [
        "import numpy as np"
      ]
    },
    {
      "cell_type": "code",
      "execution_count": 23,
      "metadata": {
        "id": "yiO59IHUArKH"
      },
      "outputs": [],
      "source": [
        "import math\n",
        "\n",
        "\n",
        "dtype = torch.float\n",
        "device = torch.device(\"cpu\")"
      ]
    },
    {
      "cell_type": "markdown",
      "metadata": {
        "id": "o3FRQlEfaEjC"
      },
      "source": [
        "1. Crear un tensor de talla (5,4,2)"
      ]
    },
    {
      "cell_type": "code",
      "execution_count": 24,
      "metadata": {
        "colab": {
          "base_uri": "https://localhost:8080/"
        },
        "id": "k-gyVQ8faC4Y",
        "outputId": "ba0608b8-3e82-4745-c2d4-fce293101fec"
      },
      "outputs": [
        {
          "name": "stdout",
          "output_type": "stream",
          "text": [
            "tensor([[[1.5980e+35, 6.4740e-43],\n",
            "         [1.5967e+35, 6.4740e-43],\n",
            "         [1.5982e+35, 6.4740e-43],\n",
            "         [1.5968e+35, 6.4740e-43]],\n",
            "\n",
            "        [[1.5962e+35, 6.4740e-43],\n",
            "         [1.5962e+35, 6.4740e-43],\n",
            "         [1.5981e+35, 6.4740e-43],\n",
            "         [1.5721e+35, 6.4740e-43]],\n",
            "\n",
            "        [[1.5756e+35, 6.4740e-43],\n",
            "         [1.5872e+35, 6.4740e-43],\n",
            "         [1.5770e+35, 6.4740e-43],\n",
            "         [1.5944e+35, 6.4740e-43]],\n",
            "\n",
            "        [[1.5843e+35, 6.4740e-43],\n",
            "         [1.5840e+35, 6.4740e-43],\n",
            "         [1.5975e+35, 6.4740e-43],\n",
            "         [1.5770e+35, 6.4740e-43]],\n",
            "\n",
            "        [[1.5967e+35, 6.4740e-43],\n",
            "         [1.5939e+35, 6.4740e-43],\n",
            "         [1.5871e+35, 6.4740e-43],\n",
            "         [1.5885e+35, 6.4740e-43]]])\n",
            "torch.Size([5, 4, 2])\n"
          ]
        }
      ],
      "source": [
        "x = torch.Tensor(5, 4, 2)\n",
        "print(x)\n",
        "print(x.shape)"
      ]
    },
    {
      "cell_type": "markdown",
      "metadata": {
        "id": "zYZviepna8OI"
      },
      "source": [
        "2. Agregar una dimensión al tensor anterior"
      ]
    },
    {
      "cell_type": "code",
      "execution_count": 25,
      "metadata": {
        "colab": {
          "base_uri": "https://localhost:8080/"
        },
        "id": "cKP7qTZCa7fE",
        "outputId": "f745d12d-0abe-4ea1-a5fd-28044b1ebe44"
      },
      "outputs": [
        {
          "name": "stdout",
          "output_type": "stream",
          "text": [
            "tensor([[[[1.5980e+35, 6.4740e-43],\n",
            "          [1.5967e+35, 6.4740e-43],\n",
            "          [1.5982e+35, 6.4740e-43],\n",
            "          [1.5968e+35, 6.4740e-43]]],\n",
            "\n",
            "\n",
            "        [[[1.5962e+35, 6.4740e-43],\n",
            "          [1.5962e+35, 6.4740e-43],\n",
            "          [1.5981e+35, 6.4740e-43],\n",
            "          [1.5721e+35, 6.4740e-43]]],\n",
            "\n",
            "\n",
            "        [[[1.5756e+35, 6.4740e-43],\n",
            "          [1.5872e+35, 6.4740e-43],\n",
            "          [1.5770e+35, 6.4740e-43],\n",
            "          [1.5944e+35, 6.4740e-43]]],\n",
            "\n",
            "\n",
            "        [[[1.5843e+35, 6.4740e-43],\n",
            "          [1.5840e+35, 6.4740e-43],\n",
            "          [1.5975e+35, 6.4740e-43],\n",
            "          [1.5770e+35, 6.4740e-43]]],\n",
            "\n",
            "\n",
            "        [[[1.5967e+35, 6.4740e-43],\n",
            "          [1.5939e+35, 6.4740e-43],\n",
            "          [1.5871e+35, 6.4740e-43],\n",
            "          [1.5885e+35, 6.4740e-43]]]])\n",
            "torch.Size([5, 1, 4, 2])\n"
          ]
        }
      ],
      "source": [
        "xx = x.unsqueeze(1)\n",
        "print(xx)\n",
        "print(xx.shape)"
      ]
    },
    {
      "cell_type": "markdown",
      "metadata": {
        "id": "8LPStu3CbB_X"
      },
      "source": [
        "3. Permutar la dimensión 1 con la dimensión 3 del vector"
      ]
    },
    {
      "cell_type": "code",
      "execution_count": 26,
      "metadata": {
        "colab": {
          "base_uri": "https://localhost:8080/"
        },
        "id": "1dksI3TldiO-",
        "outputId": "66afd296-eee8-4490-fc61-c038c2ed2984"
      },
      "outputs": [
        {
          "data": {
            "text/plain": [
              "torch.Size([5, 1, 4, 2])"
            ]
          },
          "execution_count": 26,
          "metadata": {},
          "output_type": "execute_result"
        }
      ],
      "source": [
        "xx.shape"
      ]
    },
    {
      "cell_type": "code",
      "execution_count": 27,
      "metadata": {
        "id": "JnwH_0sNbDZX"
      },
      "outputs": [],
      "source": [
        "xx = xx.permute(0,1,2,3)"
      ]
    },
    {
      "cell_type": "markdown",
      "metadata": {
        "id": "Hb-XpzXQbD14"
      },
      "source": [
        "4. Programar la función de pérdida MSE \n",
        "$$MSE = \\frac{1}{n}\\sum_{i=1}^n (Y_i-\\hat{Y_i})^2$$"
      ]
    },
    {
      "cell_type": "code",
      "execution_count": 28,
      "metadata": {
        "colab": {
          "base_uri": "https://localhost:8080/"
        },
        "id": "AtKSsrFheSBp",
        "outputId": "1a211bda-3192-484a-c6f3-6acb4cf70157"
      },
      "outputs": [
        {
          "name": "stdout",
          "output_type": "stream",
          "text": [
            "y tensor([[0.8823, 0.9150]])\n",
            "y_p tensor([[0.3679, 0.8661]])\n"
          ]
        }
      ],
      "source": [
        "y = torch.rand(1,2)\n",
        "\n",
        "torch.manual_seed(40)\n",
        "y_p = torch.rand(1,2)\n",
        "\n",
        "print('y',y)\n",
        "print('y_p',y_p)"
      ]
    },
    {
      "cell_type": "code",
      "execution_count": 29,
      "metadata": {
        "id": "928Fl1rMbE1t"
      },
      "outputs": [],
      "source": [
        "def loss_mse(y,y_p):\n",
        "  aux = y - y_p\n",
        "  aux = aux**2\n",
        "  n = np.prod(aux.shape)\n",
        "  aux = aux / n\n",
        "  mse = torch.sum(aux)\n",
        "  return mse"
      ]
    },
    {
      "cell_type": "code",
      "execution_count": 30,
      "metadata": {
        "colab": {
          "base_uri": "https://localhost:8080/"
        },
        "id": "u1UOKBbogic_",
        "outputId": "64f3b184-900f-48d1-944a-7892821a8f20"
      },
      "outputs": [
        {
          "data": {
            "text/plain": [
              "tensor(0.1335)"
            ]
          },
          "execution_count": 30,
          "metadata": {},
          "output_type": "execute_result"
        }
      ],
      "source": [
        "loss_mse(y,y_p)"
      ]
    },
    {
      "cell_type": "markdown",
      "metadata": {
        "id": "LzwEwBF9bF02"
      },
      "source": [
        "5. Crear un modelo con las siguientes capas:\n",
        "\n",
        "        a. Una capa concolucional 2d con input channels = 3 y output channels = 18\n",
        "        b. Una capa MaxPool2d con kernel = 2 stride = 2 y padding = 0\n",
        "        c. Una capa lineal ( Encuentra el valor para las dimensiones de entrada) con output channels=64\n",
        "        d. Una capa lineal ( Encuentra el valor para las dimensiones de entrada) con output channels=64"
      ]
    },
    {
      "cell_type": "code",
      "execution_count": 31,
      "metadata": {
        "id": "0kKFWMrYf7b-"
      },
      "outputs": [],
      "source": [
        "import torch.nn as nn\n",
        "import torch.nn.functional as F"
      ]
    },
    {
      "cell_type": "code",
      "execution_count": 32,
      "metadata": {
        "id": "OsQKnDDObG-I"
      },
      "outputs": [],
      "source": [
        "model = torch.nn.Sequential(\n",
        "    torch.nn.Conv2d(3, 18, kernel_size=2),\n",
        "    torch.nn.MaxPool2d(kernel_size=2, stride=2, padding=0)\n",
        "    # torch.nn.Linear(3, 64),\n",
        "    # torch.nn.Linear(3, 64),\n",
        "    # torch.nn.Flatten(0, 1)\n",
        ")"
      ]
    },
    {
      "cell_type": "code",
      "execution_count": 33,
      "metadata": {},
      "outputs": [],
      "source": [
        "# torch.nn.Conv2d(in_channels, out_channels,\n",
        "# kernel_size,\n",
        "# stride=1,\n",
        "# padding=0,\n",
        "# bias=True,\n",
        "# padding_mode='zeros',\n",
        "# device=None, dtype=None)"
      ]
    },
    {
      "cell_type": "code",
      "execution_count": 34,
      "metadata": {},
      "outputs": [],
      "source": [
        "class SimpleCNN(torch.nn.Module):\n",
        "    def __init__(self):\n",
        "        super(SimpleCNN, self).__init__()\n",
        "        \n",
        "        self.conv1 = nn.Conv2d(3, 18, kernel_size=2, stride=1, padding=1)\n",
        "        self.maxpool = nn.MaxPool2d(kernel_size=2, stride=2, padding=0)\n",
        "        # self.flatten = nn.Flatten(-1,)\n",
        "        self.linear1 = nn.Linear(18 * 28 * 28, 64)\n",
        "        self.linear2 = nn.Linear(61,1)\n",
        "\n",
        "    def forward(self, x):\n",
        "        print('x.shape',x.shape)\n",
        "        \n",
        "        x = self.conv1(x)\n",
        "        print('conv.shape',x.shape)\n",
        "        \n",
        "        x = self.maxpool(x)\n",
        "        print('maxpool',x.shape)\n",
        "        \n",
        "        # x = x.view(-1,x.shape[1]*(x.shape[2]+1)*(x.shape[2]+1))\n",
        "        x = x.view(-1, 18*28*28)\n",
        "        # x = flatten(x)\n",
        "        print('flatten',x.shape)\n",
        "        \n",
        "        x = self.linear1(x)\n",
        "        print('lienar1.shape',x.shape)\n",
        "        \n",
        "        # x = x.view(-1, 14112)\n",
        "        # # x = flatten(x)\n",
        "        # print('flatten',x.shape)\n",
        "        \n",
        "        x = self.linear2(x)\n",
        "        print('lienar2.shape',x.shape)\n",
        "        return x"
      ]
    },
    {
      "cell_type": "code",
      "execution_count": 35,
      "metadata": {},
      "outputs": [],
      "source": [
        "model = SimpleCNN()"
      ]
    },
    {
      "cell_type": "code",
      "execution_count": 36,
      "metadata": {},
      "outputs": [
        {
          "name": "stdout",
          "output_type": "stream",
          "text": [
            "SimpleCNN(\n",
            "  (conv1): Conv2d(3, 18, kernel_size=(2, 2), stride=(1, 1), padding=(1, 1))\n",
            "  (maxpool): MaxPool2d(kernel_size=2, stride=2, padding=0, dilation=1, ceil_mode=False)\n",
            "  (linear1): Linear(in_features=14112, out_features=64, bias=True)\n",
            "  (linear2): Linear(in_features=61, out_features=1, bias=True)\n",
            ")\n"
          ]
        }
      ],
      "source": [
        "print(model)"
      ]
    },
    {
      "cell_type": "markdown",
      "metadata": {
        "id": "kI-0E6CCbHau"
      },
      "source": [
        "6. Describir el modelo"
      ]
    },
    {
      "cell_type": "code",
      "execution_count": 37,
      "metadata": {
        "id": "c7RUkTvhisvD"
      },
      "outputs": [],
      "source": [
        "#from torchsummary import summary"
      ]
    },
    {
      "cell_type": "code",
      "execution_count": 38,
      "metadata": {
        "colab": {
          "base_uri": "https://localhost:8080/",
          "height": 311
        },
        "id": "8G4yBV5SbIlG",
        "outputId": "0f57e325-cb23-4330-b183-5cde9fa1404f"
      },
      "outputs": [],
      "source": [
        "#summary(model, (3,56,56))"
      ]
    },
    {
      "cell_type": "markdown",
      "metadata": {
        "id": "RDW3bZASbJCO"
      },
      "source": [
        "7. Calcular el número de parámetros del modelo manualmente y compararlo utilizando la función torchsummary\n",
        "PD : #Convolution: (# Input channels × kernel height × kernel width + 1 ) × # Output channels"
      ]
    },
    {
      "cell_type": "code",
      "execution_count": null,
      "metadata": {
        "id": "fU7I1NZxbJTc"
      },
      "outputs": [],
      "source": []
    }
  ],
  "metadata": {
    "colab": {
      "provenance": []
    },
    "kernelspec": {
      "display_name": "Python 3.10.6 ('pytorch-310')",
      "language": "python",
      "name": "python3"
    },
    "language_info": {
      "codemirror_mode": {
        "name": "ipython",
        "version": 3
      },
      "file_extension": ".py",
      "mimetype": "text/x-python",
      "name": "python",
      "nbconvert_exporter": "python",
      "pygments_lexer": "ipython3",
      "version": "3.10.6"
    },
    "toc": {
      "base_numbering": 1,
      "nav_menu": {},
      "number_sections": true,
      "sideBar": true,
      "skip_h1_title": false,
      "title_cell": "Table of Contents",
      "title_sidebar": "Contents",
      "toc_cell": false,
      "toc_position": {},
      "toc_section_display": true,
      "toc_window_display": false
    },
    "vscode": {
      "interpreter": {
        "hash": "441acf118de95d40dd8037a32c27b193447b6da66feb8d230ced5582ce0a47fa"
      }
    }
  },
  "nbformat": 4,
  "nbformat_minor": 0
}
