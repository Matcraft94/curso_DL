{
  "cells": [
    {
      "cell_type": "markdown",
      "metadata": {
        "id": "ZDH2DqUOArKF"
      },
      "source": [
        "# Taller\n",
        "1. Crear un tensor de talla (5,4,2)\n",
        "2. Agregar una dimensión al tensor anterior\n",
        "3. Permutar la dimensión 1 con la dimensión 3 del vector\n",
        "4. Programar la función de pérdida MSE \n",
        "$$MSE = \\frac{1}{n}\\sum_{i=1}^n (Y_i-\\hat{Y_i})^2$$\n",
        "5. Crear un modelo con las siguientes capas:\n",
        "        a. Una capa concolucional 2d con input channels = 3 y output channels = 18\n",
        "        b. Una capa MaxPool2d con kernel = 2 stride = 2 y padding = 0\n",
        "        c. Una capa lineal ( Encuentra el valor para las dimensiones de entrada) con output channels=64\n",
        "        d. Una capa lineal ( Encuentra el valor para las dimensiones de entrada) con output channels=64\n",
        "6. Describir el modelo\n",
        "7. Calcular el número de parámetros del modelo manualmente y compararlo utilizando la función torchsummary\n",
        "PD : #Convolution: (# Input channels × kernel height × kernel width + 1 ) × # Output channels\n"
      ]
    },
    {
      "cell_type": "code",
      "source": [
        "import torch\n",
        "print(\"Using torch\", torch.__version__)"
      ],
      "metadata": {
        "colab": {
          "base_uri": "https://localhost:8080/"
        },
        "id": "BTfOT4ReVuQg",
        "outputId": "7ff1726e-4a2d-4c40-ab4d-f212263148c5"
      },
      "execution_count": 1,
      "outputs": [
        {
          "output_type": "stream",
          "name": "stdout",
          "text": [
            "Using torch 1.12.1+cu113\n"
          ]
        }
      ]
    },
    {
      "cell_type": "code",
      "source": [
        "torch.manual_seed(42)"
      ],
      "metadata": {
        "colab": {
          "base_uri": "https://localhost:8080/"
        },
        "id": "KqvUyG-iVs83",
        "outputId": "83a841a4-e903-4ffc-9727-bdfa384cd684"
      },
      "execution_count": 2,
      "outputs": [
        {
          "output_type": "execute_result",
          "data": {
            "text/plain": [
              "<torch._C.Generator at 0x7f8866891330>"
            ]
          },
          "metadata": {},
          "execution_count": 2
        }
      ]
    },
    {
      "cell_type": "code",
      "source": [
        "import numpy as np"
      ],
      "metadata": {
        "id": "Ak8HuVQ8fJVM"
      },
      "execution_count": 3,
      "outputs": []
    },
    {
      "cell_type": "code",
      "execution_count": 4,
      "metadata": {
        "id": "yiO59IHUArKH"
      },
      "outputs": [],
      "source": [
        "import math\n",
        "\n",
        "\n",
        "dtype = torch.float\n",
        "device = torch.device(\"cpu\")"
      ]
    },
    {
      "cell_type": "markdown",
      "source": [
        "1. Crear un tensor de talla (5,4,2)"
      ],
      "metadata": {
        "id": "o3FRQlEfaEjC"
      }
    },
    {
      "cell_type": "code",
      "source": [
        "x = torch.Tensor(5, 4, 2)\n",
        "print(x)\n",
        "print(x.shape)"
      ],
      "metadata": {
        "colab": {
          "base_uri": "https://localhost:8080/"
        },
        "id": "k-gyVQ8faC4Y",
        "outputId": "ba0608b8-3e82-4745-c2d4-fce293101fec"
      },
      "execution_count": 5,
      "outputs": [
        {
          "output_type": "stream",
          "name": "stdout",
          "text": [
            "tensor([[[0.0000e+00, 0.0000e+00],\n",
            "         [2.3262e-43, 0.0000e+00],\n",
            "         [       nan, 0.0000e+00],\n",
            "         [7.5656e+28, 1.8465e+25]],\n",
            "\n",
            "        [[1.1431e+27, 6.9983e+28],\n",
            "         [1.9349e-19, 4.5445e+30],\n",
            "         [4.7429e+30, 4.7567e+30],\n",
            "         [9.2860e-04, 1.1867e+27]],\n",
            "\n",
            "        [[3.2483e+33, 1.9690e-19],\n",
            "         [6.8589e+22, 1.3340e+31],\n",
            "         [1.1708e-19, 1.8318e+25],\n",
            "         [7.1125e-04, 1.1434e+27]],\n",
            "\n",
            "        [[7.5555e+31, 1.2705e+31],\n",
            "         [7.0948e+22, 3.8946e+21],\n",
            "         [4.4650e+30, 1.1286e+27],\n",
            "         [2.8405e+20, 3.2608e-12]],\n",
            "\n",
            "        [[1.4583e-19, 2.0704e-19],\n",
            "         [3.0881e+29, 6.4069e+02],\n",
            "         [4.3066e+21, 6.7331e+22],\n",
            "         [6.7120e+22, 6.9983e+28]]])\n",
            "torch.Size([5, 4, 2])\n"
          ]
        }
      ]
    },
    {
      "cell_type": "markdown",
      "source": [
        "2. Agregar una dimensión al tensor anterior"
      ],
      "metadata": {
        "id": "zYZviepna8OI"
      }
    },
    {
      "cell_type": "code",
      "source": [
        "xx = x.unsqueeze(1)\n",
        "print(xx)\n",
        "print(xx.shape)"
      ],
      "metadata": {
        "colab": {
          "base_uri": "https://localhost:8080/"
        },
        "id": "cKP7qTZCa7fE",
        "outputId": "f745d12d-0abe-4ea1-a5fd-28044b1ebe44"
      },
      "execution_count": 6,
      "outputs": [
        {
          "output_type": "stream",
          "name": "stdout",
          "text": [
            "tensor([[[[0.0000e+00, 0.0000e+00],\n",
            "          [2.3262e-43, 0.0000e+00],\n",
            "          [       nan, 0.0000e+00],\n",
            "          [7.5656e+28, 1.8465e+25]]],\n",
            "\n",
            "\n",
            "        [[[1.1431e+27, 6.9983e+28],\n",
            "          [1.9349e-19, 4.5445e+30],\n",
            "          [4.7429e+30, 4.7567e+30],\n",
            "          [9.2860e-04, 1.1867e+27]]],\n",
            "\n",
            "\n",
            "        [[[3.2483e+33, 1.9690e-19],\n",
            "          [6.8589e+22, 1.3340e+31],\n",
            "          [1.1708e-19, 1.8318e+25],\n",
            "          [7.1125e-04, 1.1434e+27]]],\n",
            "\n",
            "\n",
            "        [[[7.5555e+31, 1.2705e+31],\n",
            "          [7.0948e+22, 3.8946e+21],\n",
            "          [4.4650e+30, 1.1286e+27],\n",
            "          [2.8405e+20, 3.2608e-12]]],\n",
            "\n",
            "\n",
            "        [[[1.4583e-19, 2.0704e-19],\n",
            "          [3.0881e+29, 6.4069e+02],\n",
            "          [4.3066e+21, 6.7331e+22],\n",
            "          [6.7120e+22, 6.9983e+28]]]])\n",
            "torch.Size([5, 1, 4, 2])\n"
          ]
        }
      ]
    },
    {
      "cell_type": "markdown",
      "source": [
        "3. Permutar la dimensión 1 con la dimensión 3 del vector"
      ],
      "metadata": {
        "id": "8LPStu3CbB_X"
      }
    },
    {
      "cell_type": "code",
      "source": [
        "xx.shape"
      ],
      "metadata": {
        "colab": {
          "base_uri": "https://localhost:8080/"
        },
        "id": "1dksI3TldiO-",
        "outputId": "66afd296-eee8-4490-fc61-c038c2ed2984"
      },
      "execution_count": 7,
      "outputs": [
        {
          "output_type": "execute_result",
          "data": {
            "text/plain": [
              "torch.Size([5, 1, 4, 2])"
            ]
          },
          "metadata": {},
          "execution_count": 7
        }
      ]
    },
    {
      "cell_type": "code",
      "source": [
        "xx = xx.permute(0,1,2,3)"
      ],
      "metadata": {
        "id": "JnwH_0sNbDZX"
      },
      "execution_count": 8,
      "outputs": []
    },
    {
      "cell_type": "markdown",
      "source": [
        "4. Programar la función de pérdida MSE \n",
        "$$MSE = \\frac{1}{n}\\sum_{i=1}^n (Y_i-\\hat{Y_i})^2$$"
      ],
      "metadata": {
        "id": "Hb-XpzXQbD14"
      }
    },
    {
      "cell_type": "code",
      "source": [
        "y = torch.rand(1,2)\n",
        "\n",
        "torch.manual_seed(40)\n",
        "y_p = torch.rand(1,2)\n",
        "\n",
        "print('y',y)\n",
        "print('y_p',y_p)"
      ],
      "metadata": {
        "colab": {
          "base_uri": "https://localhost:8080/"
        },
        "id": "AtKSsrFheSBp",
        "outputId": "1a211bda-3192-484a-c6f3-6acb4cf70157"
      },
      "execution_count": 9,
      "outputs": [
        {
          "output_type": "stream",
          "name": "stdout",
          "text": [
            "y tensor([[0.8823, 0.9150]])\n",
            "y_p tensor([[0.3679, 0.8661]])\n"
          ]
        }
      ]
    },
    {
      "cell_type": "code",
      "source": [
        "def loss_mse(y,y_p):\n",
        "  aux = y - y_p\n",
        "  aux = aux**2\n",
        "  n = np.prod(aux.shape)\n",
        "  aux = aux / n\n",
        "  mse = torch.sum(aux)\n",
        "  return mse"
      ],
      "metadata": {
        "id": "928Fl1rMbE1t"
      },
      "execution_count": 10,
      "outputs": []
    },
    {
      "cell_type": "code",
      "source": [
        "loss_mse(y,y_p)"
      ],
      "metadata": {
        "colab": {
          "base_uri": "https://localhost:8080/"
        },
        "id": "u1UOKBbogic_",
        "outputId": "64f3b184-900f-48d1-944a-7892821a8f20"
      },
      "execution_count": 13,
      "outputs": [
        {
          "output_type": "execute_result",
          "data": {
            "text/plain": [
              "tensor(0.1335)"
            ]
          },
          "metadata": {},
          "execution_count": 13
        }
      ]
    },
    {
      "cell_type": "markdown",
      "source": [
        "5. Crear un modelo con las siguientes capas:\n",
        "        a. Una capa concolucional 2d con input channels = 3 y output channels = 18\n",
        "        b. Una capa MaxPool2d con kernel = 2 stride = 2 y padding = 0\n",
        "        c. Una capa lineal ( Encuentra el valor para las dimensiones de entrada) con output channels=64\n",
        "        d. Una capa lineal ( Encuentra el valor para las dimensiones de entrada) con output channels=64"
      ],
      "metadata": {
        "id": "LzwEwBF9bF02"
      }
    },
    {
      "cell_type": "code",
      "source": [
        "import torch.nn as nn\n",
        "import torch.nn.functional as F"
      ],
      "metadata": {
        "id": "0kKFWMrYf7b-"
      },
      "execution_count": 11,
      "outputs": []
    },
    {
      "cell_type": "code",
      "source": [
        "# creando nuestro primer modelo\n",
        "model = torch.nn.Sequential(\n",
        "    torch.nn.Conv2d(3, 18, (1, 1)),\n",
        "    torch.nn.MaxPool2d(3, stride=2, padding=0),\n",
        "    torch.nn.Linear(3, 64),\n",
        "    torch.nn.Linear(3, 64),\n",
        "    torch.nn.Flatten(0, 1)\n",
        ")"
      ],
      "metadata": {
        "id": "OsQKnDDObG-I"
      },
      "execution_count": 31,
      "outputs": []
    },
    {
      "cell_type": "markdown",
      "source": [
        "6. Describir el modelo"
      ],
      "metadata": {
        "id": "kI-0E6CCbHau"
      }
    },
    {
      "cell_type": "code",
      "source": [
        "from torchsummary import summary"
      ],
      "metadata": {
        "id": "c7RUkTvhisvD"
      },
      "execution_count": 32,
      "outputs": []
    },
    {
      "cell_type": "code",
      "source": [
        "summary(model, (1, 2, 12, 3))"
      ],
      "metadata": {
        "id": "8G4yBV5SbIlG",
        "colab": {
          "base_uri": "https://localhost:8080/",
          "height": 311
        },
        "outputId": "0f57e325-cb23-4330-b183-5cde9fa1404f"
      },
      "execution_count": 33,
      "outputs": [
        {
          "output_type": "error",
          "ename": "RuntimeError",
          "evalue": "ignored",
          "traceback": [
            "\u001b[0;31m---------------------------------------------------------------------------\u001b[0m",
            "\u001b[0;31mRuntimeError\u001b[0m                              Traceback (most recent call last)",
            "\u001b[0;32m<ipython-input-33-64c942624154>\u001b[0m in \u001b[0;36m<module>\u001b[0;34m\u001b[0m\n\u001b[0;32m----> 1\u001b[0;31m \u001b[0msummary\u001b[0m\u001b[0;34m(\u001b[0m\u001b[0mmodel\u001b[0m\u001b[0;34m,\u001b[0m \u001b[0;34m(\u001b[0m\u001b[0;36m1\u001b[0m\u001b[0;34m,\u001b[0m \u001b[0;36m2\u001b[0m\u001b[0;34m,\u001b[0m \u001b[0;36m12\u001b[0m\u001b[0;34m,\u001b[0m \u001b[0;36m3\u001b[0m\u001b[0;34m)\u001b[0m\u001b[0;34m)\u001b[0m\u001b[0;34m\u001b[0m\u001b[0;34m\u001b[0m\u001b[0m\n\u001b[0m",
            "\u001b[0;32m/usr/local/lib/python3.7/dist-packages/torchsummary/torchsummary.py\u001b[0m in \u001b[0;36msummary\u001b[0;34m(model, input_size, batch_size, device)\u001b[0m\n\u001b[1;32m     70\u001b[0m     \u001b[0;31m# make a forward pass\u001b[0m\u001b[0;34m\u001b[0m\u001b[0;34m\u001b[0m\u001b[0;34m\u001b[0m\u001b[0m\n\u001b[1;32m     71\u001b[0m     \u001b[0;31m# print(x.shape)\u001b[0m\u001b[0;34m\u001b[0m\u001b[0;34m\u001b[0m\u001b[0;34m\u001b[0m\u001b[0m\n\u001b[0;32m---> 72\u001b[0;31m     \u001b[0mmodel\u001b[0m\u001b[0;34m(\u001b[0m\u001b[0;34m*\u001b[0m\u001b[0mx\u001b[0m\u001b[0;34m)\u001b[0m\u001b[0;34m\u001b[0m\u001b[0;34m\u001b[0m\u001b[0m\n\u001b[0m\u001b[1;32m     73\u001b[0m \u001b[0;34m\u001b[0m\u001b[0m\n\u001b[1;32m     74\u001b[0m     \u001b[0;31m# remove these hooks\u001b[0m\u001b[0;34m\u001b[0m\u001b[0;34m\u001b[0m\u001b[0;34m\u001b[0m\u001b[0m\n",
            "\u001b[0;32m/usr/local/lib/python3.7/dist-packages/torch/nn/modules/module.py\u001b[0m in \u001b[0;36m_call_impl\u001b[0;34m(self, *input, **kwargs)\u001b[0m\n\u001b[1;32m   1128\u001b[0m         if not (self._backward_hooks or self._forward_hooks or self._forward_pre_hooks or _global_backward_hooks\n\u001b[1;32m   1129\u001b[0m                 or _global_forward_hooks or _global_forward_pre_hooks):\n\u001b[0;32m-> 1130\u001b[0;31m             \u001b[0;32mreturn\u001b[0m \u001b[0mforward_call\u001b[0m\u001b[0;34m(\u001b[0m\u001b[0;34m*\u001b[0m\u001b[0minput\u001b[0m\u001b[0;34m,\u001b[0m \u001b[0;34m**\u001b[0m\u001b[0mkwargs\u001b[0m\u001b[0;34m)\u001b[0m\u001b[0;34m\u001b[0m\u001b[0;34m\u001b[0m\u001b[0m\n\u001b[0m\u001b[1;32m   1131\u001b[0m         \u001b[0;31m# Do not call functions when jit is used\u001b[0m\u001b[0;34m\u001b[0m\u001b[0;34m\u001b[0m\u001b[0;34m\u001b[0m\u001b[0m\n\u001b[1;32m   1132\u001b[0m         \u001b[0mfull_backward_hooks\u001b[0m\u001b[0;34m,\u001b[0m \u001b[0mnon_full_backward_hooks\u001b[0m \u001b[0;34m=\u001b[0m \u001b[0;34m[\u001b[0m\u001b[0;34m]\u001b[0m\u001b[0;34m,\u001b[0m \u001b[0;34m[\u001b[0m\u001b[0;34m]\u001b[0m\u001b[0;34m\u001b[0m\u001b[0;34m\u001b[0m\u001b[0m\n",
            "\u001b[0;32m/usr/local/lib/python3.7/dist-packages/torch/nn/modules/container.py\u001b[0m in \u001b[0;36mforward\u001b[0;34m(self, input)\u001b[0m\n\u001b[1;32m    137\u001b[0m     \u001b[0;32mdef\u001b[0m \u001b[0mforward\u001b[0m\u001b[0;34m(\u001b[0m\u001b[0mself\u001b[0m\u001b[0;34m,\u001b[0m \u001b[0minput\u001b[0m\u001b[0;34m)\u001b[0m\u001b[0;34m:\u001b[0m\u001b[0;34m\u001b[0m\u001b[0;34m\u001b[0m\u001b[0m\n\u001b[1;32m    138\u001b[0m         \u001b[0;32mfor\u001b[0m \u001b[0mmodule\u001b[0m \u001b[0;32min\u001b[0m \u001b[0mself\u001b[0m\u001b[0;34m:\u001b[0m\u001b[0;34m\u001b[0m\u001b[0;34m\u001b[0m\u001b[0m\n\u001b[0;32m--> 139\u001b[0;31m             \u001b[0minput\u001b[0m \u001b[0;34m=\u001b[0m \u001b[0mmodule\u001b[0m\u001b[0;34m(\u001b[0m\u001b[0minput\u001b[0m\u001b[0;34m)\u001b[0m\u001b[0;34m\u001b[0m\u001b[0;34m\u001b[0m\u001b[0m\n\u001b[0m\u001b[1;32m    140\u001b[0m         \u001b[0;32mreturn\u001b[0m \u001b[0minput\u001b[0m\u001b[0;34m\u001b[0m\u001b[0;34m\u001b[0m\u001b[0m\n\u001b[1;32m    141\u001b[0m \u001b[0;34m\u001b[0m\u001b[0m\n",
            "\u001b[0;32m/usr/local/lib/python3.7/dist-packages/torch/nn/modules/module.py\u001b[0m in \u001b[0;36m_call_impl\u001b[0;34m(self, *input, **kwargs)\u001b[0m\n\u001b[1;32m   1146\u001b[0m             \u001b[0minput\u001b[0m \u001b[0;34m=\u001b[0m \u001b[0mbw_hook\u001b[0m\u001b[0;34m.\u001b[0m\u001b[0msetup_input_hook\u001b[0m\u001b[0;34m(\u001b[0m\u001b[0minput\u001b[0m\u001b[0;34m)\u001b[0m\u001b[0;34m\u001b[0m\u001b[0;34m\u001b[0m\u001b[0m\n\u001b[1;32m   1147\u001b[0m \u001b[0;34m\u001b[0m\u001b[0m\n\u001b[0;32m-> 1148\u001b[0;31m         \u001b[0mresult\u001b[0m \u001b[0;34m=\u001b[0m \u001b[0mforward_call\u001b[0m\u001b[0;34m(\u001b[0m\u001b[0;34m*\u001b[0m\u001b[0minput\u001b[0m\u001b[0;34m,\u001b[0m \u001b[0;34m**\u001b[0m\u001b[0mkwargs\u001b[0m\u001b[0;34m)\u001b[0m\u001b[0;34m\u001b[0m\u001b[0;34m\u001b[0m\u001b[0m\n\u001b[0m\u001b[1;32m   1149\u001b[0m         \u001b[0;32mif\u001b[0m \u001b[0m_global_forward_hooks\u001b[0m \u001b[0;32mor\u001b[0m \u001b[0mself\u001b[0m\u001b[0;34m.\u001b[0m\u001b[0m_forward_hooks\u001b[0m\u001b[0;34m:\u001b[0m\u001b[0;34m\u001b[0m\u001b[0;34m\u001b[0m\u001b[0m\n\u001b[1;32m   1150\u001b[0m             \u001b[0;32mfor\u001b[0m \u001b[0mhook\u001b[0m \u001b[0;32min\u001b[0m \u001b[0;34m(\u001b[0m\u001b[0;34m*\u001b[0m\u001b[0m_global_forward_hooks\u001b[0m\u001b[0;34m.\u001b[0m\u001b[0mvalues\u001b[0m\u001b[0;34m(\u001b[0m\u001b[0;34m)\u001b[0m\u001b[0;34m,\u001b[0m \u001b[0;34m*\u001b[0m\u001b[0mself\u001b[0m\u001b[0;34m.\u001b[0m\u001b[0m_forward_hooks\u001b[0m\u001b[0;34m.\u001b[0m\u001b[0mvalues\u001b[0m\u001b[0;34m(\u001b[0m\u001b[0;34m)\u001b[0m\u001b[0;34m)\u001b[0m\u001b[0;34m:\u001b[0m\u001b[0;34m\u001b[0m\u001b[0;34m\u001b[0m\u001b[0m\n",
            "\u001b[0;32m/usr/local/lib/python3.7/dist-packages/torch/nn/modules/conv.py\u001b[0m in \u001b[0;36mforward\u001b[0;34m(self, input)\u001b[0m\n\u001b[1;32m    455\u001b[0m \u001b[0;34m\u001b[0m\u001b[0m\n\u001b[1;32m    456\u001b[0m     \u001b[0;32mdef\u001b[0m \u001b[0mforward\u001b[0m\u001b[0;34m(\u001b[0m\u001b[0mself\u001b[0m\u001b[0;34m,\u001b[0m \u001b[0minput\u001b[0m\u001b[0;34m:\u001b[0m \u001b[0mTensor\u001b[0m\u001b[0;34m)\u001b[0m \u001b[0;34m->\u001b[0m \u001b[0mTensor\u001b[0m\u001b[0;34m:\u001b[0m\u001b[0;34m\u001b[0m\u001b[0;34m\u001b[0m\u001b[0m\n\u001b[0;32m--> 457\u001b[0;31m         \u001b[0;32mreturn\u001b[0m \u001b[0mself\u001b[0m\u001b[0;34m.\u001b[0m\u001b[0m_conv_forward\u001b[0m\u001b[0;34m(\u001b[0m\u001b[0minput\u001b[0m\u001b[0;34m,\u001b[0m \u001b[0mself\u001b[0m\u001b[0;34m.\u001b[0m\u001b[0mweight\u001b[0m\u001b[0;34m,\u001b[0m \u001b[0mself\u001b[0m\u001b[0;34m.\u001b[0m\u001b[0mbias\u001b[0m\u001b[0;34m)\u001b[0m\u001b[0;34m\u001b[0m\u001b[0;34m\u001b[0m\u001b[0m\n\u001b[0m\u001b[1;32m    458\u001b[0m \u001b[0;34m\u001b[0m\u001b[0m\n\u001b[1;32m    459\u001b[0m \u001b[0;32mclass\u001b[0m \u001b[0mConv3d\u001b[0m\u001b[0;34m(\u001b[0m\u001b[0m_ConvNd\u001b[0m\u001b[0;34m)\u001b[0m\u001b[0;34m:\u001b[0m\u001b[0;34m\u001b[0m\u001b[0;34m\u001b[0m\u001b[0m\n",
            "\u001b[0;32m/usr/local/lib/python3.7/dist-packages/torch/nn/modules/conv.py\u001b[0m in \u001b[0;36m_conv_forward\u001b[0;34m(self, input, weight, bias)\u001b[0m\n\u001b[1;32m    452\u001b[0m                             _pair(0), self.dilation, self.groups)\n\u001b[1;32m    453\u001b[0m         return F.conv2d(input, weight, bias, self.stride,\n\u001b[0;32m--> 454\u001b[0;31m                         self.padding, self.dilation, self.groups)\n\u001b[0m\u001b[1;32m    455\u001b[0m \u001b[0;34m\u001b[0m\u001b[0m\n\u001b[1;32m    456\u001b[0m     \u001b[0;32mdef\u001b[0m \u001b[0mforward\u001b[0m\u001b[0;34m(\u001b[0m\u001b[0mself\u001b[0m\u001b[0;34m,\u001b[0m \u001b[0minput\u001b[0m\u001b[0;34m:\u001b[0m \u001b[0mTensor\u001b[0m\u001b[0;34m)\u001b[0m \u001b[0;34m->\u001b[0m \u001b[0mTensor\u001b[0m\u001b[0;34m:\u001b[0m\u001b[0;34m\u001b[0m\u001b[0;34m\u001b[0m\u001b[0m\n",
            "\u001b[0;31mRuntimeError\u001b[0m: Expected 3D (unbatched) or 4D (batched) input to conv2d, but got input of size: [2, 1, 2, 12, 3]"
          ]
        }
      ]
    },
    {
      "cell_type": "markdown",
      "source": [
        "7. Calcular el número de parámetros del modelo manualmente y compararlo utilizando la función torchsummary\n",
        "PD : #Convolution: (# Input channels × kernel height × kernel width + 1 ) × # Output channels"
      ],
      "metadata": {
        "id": "RDW3bZASbJCO"
      }
    },
    {
      "cell_type": "code",
      "source": [],
      "metadata": {
        "id": "fU7I1NZxbJTc"
      },
      "execution_count": null,
      "outputs": []
    }
  ],
  "metadata": {
    "kernelspec": {
      "display_name": "Python [conda env:DL]",
      "language": "python",
      "name": "conda-env-DL-py"
    },
    "language_info": {
      "codemirror_mode": {
        "name": "ipython",
        "version": 3
      },
      "file_extension": ".py",
      "mimetype": "text/x-python",
      "name": "python",
      "nbconvert_exporter": "python",
      "pygments_lexer": "ipython3",
      "version": "3.10.6"
    },
    "toc": {
      "base_numbering": 1,
      "nav_menu": {},
      "number_sections": true,
      "sideBar": true,
      "skip_h1_title": false,
      "title_cell": "Table of Contents",
      "title_sidebar": "Contents",
      "toc_cell": false,
      "toc_position": {},
      "toc_section_display": true,
      "toc_window_display": false
    },
    "colab": {
      "provenance": []
    }
  },
  "nbformat": 4,
  "nbformat_minor": 0
}