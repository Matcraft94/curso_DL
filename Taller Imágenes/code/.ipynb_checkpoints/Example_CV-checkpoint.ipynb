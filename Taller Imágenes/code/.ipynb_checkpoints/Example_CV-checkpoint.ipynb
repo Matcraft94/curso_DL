{
 "cells": [
  {
   "cell_type": "code",
   "execution_count": 1,
   "metadata": {},
   "outputs": [],
   "source": [
    "# Imports\n",
    "import cv2\n",
    "import numpy as np\n",
    "import pandas as pd\n",
    "from matplotlib import pyplot as plt\n",
    "import torch\n",
    "from torch import nn\n",
    "from torch.utils import data as data_torch\n",
    "import random\n",
    "from tqdm import tnrange, tqdm_notebook\n",
    "from PIL import Image"
   ]
  },
  {
   "cell_type": "code",
   "execution_count": 8,
   "metadata": {},
   "outputs": [],
   "source": [
    "path_dir = '/HomeToo/Projects/TerraSphere_FeatureExtraction/archive_folder/CopyPaste/'#datasets/data/RarePlusRoadFractures'\n",
    "partitions = ['train', 'val','test']\n",
    "# size_image = "
   ]
  },
  {
   "cell_type": "code",
   "execution_count": 9,
   "metadata": {},
   "outputs": [
    {
     "data": {
      "text/plain": [
       "['Metrics CopyPaste.ipynb',\n",
       " 'inference_metrics_unet.py',\n",
       " 'results',\n",
       " 'train TINYCNN & CopyPaste.ipynb',\n",
       " 'train_unet_copypaste.py',\n",
       " 'configs',\n",
       " '.ipynb_checkpoints',\n",
       " 'C:',\n",
       " 'Rename and copy roadFractures datasetv0.ipynb',\n",
       " 'launch_several_training_UNet_w_copypaste.sh',\n",
       " 'launch_several_training_UNet.sh',\n",
       " 'Rename and copy roadFractures dataset.ipynb',\n",
       " 'api',\n",
       " 'datasets',\n",
       " 'train_tinyCNN_copypaste.py']"
      ]
     },
     "execution_count": 9,
     "metadata": {},
     "output_type": "execute_result"
    }
   ],
   "source": [
    "import os \n",
    "os.listdir(path_dir)"
   ]
  },
  {
   "cell_type": "code",
   "execution_count": null,
   "metadata": {},
   "outputs": [],
   "source": [
    "images_dic = {'train':[], 'val':[], 'test':[]}\n",
    "label_dic = {'train':[], 'val':[], 'test':[]}\n",
    "size_images = []\n",
    "\n",
    "for phase in partitions:\n",
    "    \n",
    "    path_phase_images = path_dir+'/%s/images'%phase\n",
    "    path_phase_labels = path_phase_images.replace('images', 'labels')\n",
    "    name_images = os.listdir(path_phase_images)\n",
    "    images = [cv2.imread('%s/%s'%(path_phase_images,x), cv2.IMREAD_COLOR) for x in name_images]\n",
    "    labels = [cv2.imread('%s/%s'%(path_phase_labels,x), cv2.IMREAD_COLOR) for x in name_images]\n",
    "    images_dic[phase] = images\n",
    "    label_dic[phase] = labels\n",
    "    size_images = [x.shape for x in images_dic[phase]]\n",
    "    \n",
    "# img.shape\n",
    "# plt.imshow(img)"
   ]
  },
  {
   "cell_type": "code",
   "execution_count": 16,
   "metadata": {},
   "outputs": [
    {
     "data": {
      "text/plain": [
       "'C:\\\\Users\\\\aescobar13\\\\OneDrive - Schlumberger\\\\AI Academy\\\\Especializacion python\\\\Taller_imagenes\\\\datasets\\\\RarePlusRoadFractures/0_(0_0).jpg'"
      ]
     },
     "execution_count": 16,
     "metadata": {},
     "output_type": "execute_result"
    }
   ],
   "source": [
    "# verificar imágenes y etiquetas\n",
    "import random\n",
    "index_sample = random.sample(list(range(image_dic['train'])), 20)\n",
    "for img_i in index_sample:\n",
    "    f, (ax1, ax2) = plt.subplots(1, 2, sharey=True)\n",
    "    ax1.imshow(image_dic['train'][img_i])\n",
    "    ax2.imshow(label_dic['train'][img_i])"
   ]
  },
  {
   "cell_type": "code",
   "execution_count": null,
   "metadata": {},
   "outputs": [],
   "source": [
    "import matplotlib.pyplot as plt\n",
    "from mpl_toolkits.axes_grid1 import ImageGrid\n",
    "import numpy as np\n",
    "\n",
    "fig = plt.figure(figsize=(20., 20.))\n",
    "grid = ImageGrid(fig, 111, \n",
    "                 nrows_ncols=(2, 2),  # creates 2x2 grid of axes\n",
    "                 axes_pad=0.1,  # pad between axes\n",
    "                 )\n",
    "\n",
    "for ax, im in zip(grid, img_arr):\n",
    "    ax.imshow(im)\n",
    "\n",
    "plt.show()"
   ]
  },
  {
   "cell_type": "code",
   "execution_count": null,
   "metadata": {},
   "outputs": [],
   "source": []
  }
 ],
 "metadata": {
  "kernelspec": {
   "display_name": "dip_picking",
   "language": "python",
   "name": "dip_picking"
  },
  "language_info": {
   "codemirror_mode": {
    "name": "ipython",
    "version": 3
   },
   "file_extension": ".py",
   "mimetype": "text/x-python",
   "name": "python",
   "nbconvert_exporter": "python",
   "pygments_lexer": "ipython3",
   "version": "3.8.10"
  },
  "toc": {
   "base_numbering": 1,
   "nav_menu": {},
   "number_sections": true,
   "sideBar": true,
   "skip_h1_title": false,
   "title_cell": "Table of Contents",
   "title_sidebar": "Contents",
   "toc_cell": false,
   "toc_position": {},
   "toc_section_display": true,
   "toc_window_display": false
  }
 },
 "nbformat": 4,
 "nbformat_minor": 2
}
