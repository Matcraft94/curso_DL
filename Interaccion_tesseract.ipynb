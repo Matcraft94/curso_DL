{
  "cells": [
    {
      "cell_type": "markdown",
      "metadata": {
        "colab_type": "text",
        "id": "view-in-github"
      },
      "source": [
        "<a href=\"https://colab.research.google.com/github/Matcraft94/curso_DL/blob/main/Interaccion_tesseract.ipynb\" target=\"_parent\"><img src=\"https://colab.research.google.com/assets/colab-badge.svg\" alt=\"Open In Colab\"/></a>"
      ]
    },
    {
      "cell_type": "code",
      "execution_count": null,
      "metadata": {
        "colab": {
          "base_uri": "https://localhost:8080/"
        },
        "id": "p0714SGghzL9",
        "outputId": "fb481fd6-96bf-4dea-a960-b57f40d29ffb"
      },
      "outputs": [],
      "source": [
        "from google.colab import drive\n",
        "drive.mount('/content/drive')"
      ]
    },
    {
      "cell_type": "code",
      "execution_count": null,
      "metadata": {
        "id": "CAgUzCgNZltQ"
      },
      "outputs": [],
      "source": [
        "# !sudo apt install tesseract-ocr"
      ]
    },
    {
      "cell_type": "code",
      "execution_count": null,
      "metadata": {
        "id": "InBR67ksZhvL"
      },
      "outputs": [],
      "source": [
        "# !pip install pytesseract"
      ]
    },
    {
      "cell_type": "code",
      "execution_count": null,
      "metadata": {
        "id": "BnPWvwVhZof5"
      },
      "outputs": [],
      "source": [
        "import pytesseract\n",
        "from PIL import Image"
      ]
    },
    {
      "cell_type": "code",
      "execution_count": null,
      "metadata": {
        "id": "zbl46PwfkCLI"
      },
      "outputs": [],
      "source": [
        "# img = Image.open('/content/CI.jpg')"
      ]
    },
    {
      "cell_type": "code",
      "execution_count": null,
      "metadata": {
        "id": "9mJydCxSZtSy"
      },
      "outputs": [],
      "source": [
        "# img = Image.open('/content/drive/MyDrive/OCRs/data/CI.png')"
      ]
    },
    {
      "cell_type": "code",
      "execution_count": null,
      "metadata": {
        "id": "XOdqrl8tZ9ZT"
      },
      "outputs": [],
      "source": [
        "# img"
      ]
    },
    {
      "cell_type": "code",
      "execution_count": null,
      "metadata": {
        "id": "S4MR_zjQaFgF"
      },
      "outputs": [],
      "source": [
        "# print(pytesseract.image_to_string(img))"
      ]
    },
    {
      "cell_type": "code",
      "execution_count": null,
      "metadata": {
        "id": "p2Ujd040aHkT"
      },
      "outputs": [],
      "source": [
        "# print(pytesseract.image_to_boxes(img))"
      ]
    },
    {
      "cell_type": "code",
      "execution_count": null,
      "metadata": {
        "id": "3AQV2oWkaqI8"
      },
      "outputs": [],
      "source": [
        "# print(pytesseract.image_to_data(img))"
      ]
    },
    {
      "cell_type": "code",
      "execution_count": null,
      "metadata": {
        "id": "sJxQczc0a-4X"
      },
      "outputs": [],
      "source": [
        "import cv2\n",
        "import matplotlib.pyplot as plt\n",
        "import matplotlib.patches as patches"
      ]
    },
    {
      "cell_type": "code",
      "execution_count": null,
      "metadata": {
        "id": "G8BmM82-bHUq"
      },
      "outputs": [],
      "source": [
        "img = cv2.imread('/content/drive/MyDrive/OCRs/data/CI.png')"
      ]
    },
    {
      "cell_type": "code",
      "execution_count": null,
      "metadata": {
        "colab": {
          "base_uri": "https://localhost:8080/",
          "height": 588
        },
        "id": "sp5DDsJ3bR1U",
        "outputId": "080b2cb3-3396-427e-862a-41e837a4ef73"
      },
      "outputs": [],
      "source": [
        "plt.figure(figsize=(15,30))\n",
        "plt.imshow(img)\n",
        "plt.show()"
      ]
    },
    {
      "cell_type": "code",
      "execution_count": null,
      "metadata": {
        "id": "Y0HY6qsTbSMT"
      },
      "outputs": [],
      "source": [
        "gray = cv2.cvtColor(img, cv2.COLOR_BGR2GRAY)"
      ]
    },
    {
      "cell_type": "code",
      "execution_count": null,
      "metadata": {
        "colab": {
          "base_uri": "https://localhost:8080/",
          "height": 588
        },
        "id": "r13RTE81bSfc",
        "outputId": "a9d77567-00b8-48b2-d232-f6e5b8726a9d"
      },
      "outputs": [],
      "source": [
        "plt.figure(figsize=(15,30))\n",
        "plt.imshow(gray)\n",
        "plt.show()"
      ]
    },
    {
      "cell_type": "code",
      "execution_count": null,
      "metadata": {
        "id": "ziv34beDbq3a"
      },
      "outputs": [],
      "source": [
        "new_image = cv2.adaptiveThreshold(gray, 255, cv2.ADAPTIVE_THRESH_GAUSSIAN_C, cv2.THRESH_BINARY, 85, 11)"
      ]
    },
    {
      "cell_type": "code",
      "execution_count": null,
      "metadata": {
        "colab": {
          "base_uri": "https://localhost:8080/",
          "height": 588
        },
        "id": "WwQB4_89byse",
        "outputId": "8067e19e-64d3-46f8-fbba-84ea28db9bfc"
      },
      "outputs": [],
      "source": [
        "plt.figure(figsize=(15,30))\n",
        "plt.imshow(new_image)\n",
        "plt.show()"
      ]
    },
    {
      "cell_type": "code",
      "execution_count": null,
      "metadata": {
        "colab": {
          "base_uri": "https://localhost:8080/"
        },
        "id": "HSJz8VTBb2h_",
        "outputId": "a3c07b24-f404-4bc5-867a-d29f87c35f46"
      },
      "outputs": [],
      "source": [
        "text = pytesseract.image_to_string(new_image, config=\"--psm 3\", nice=1)\n",
        "print(text)"
      ]
    },
    {
      "cell_type": "code",
      "execution_count": null,
      "metadata": {
        "colab": {
          "base_uri": "https://localhost:8080/"
        },
        "id": "XKY3Qsq2jGeX",
        "outputId": "f703cb1e-1f9b-4d58-90db-f65b2bcd0542"
      },
      "outputs": [],
      "source": [
        "boxes = pytesseract.image_to_boxes(new_image).split('\\n')\n",
        "for i in range(10):\n",
        "  print(boxes[i])"
      ]
    },
    {
      "cell_type": "code",
      "execution_count": null,
      "metadata": {
        "id": "5u9efNcLmA0u"
      },
      "outputs": [],
      "source": [
        "# for box in boxes:\n",
        "#   print(box.split(' '))"
      ]
    },
    {
      "cell_type": "code",
      "execution_count": null,
      "metadata": {
        "id": "DKyE-jSSngH3"
      },
      "outputs": [],
      "source": [
        "box = boxes[0].split(' ')\n",
        "box = box[1:5]"
      ]
    },
    {
      "cell_type": "code",
      "execution_count": null,
      "metadata": {
        "colab": {
          "base_uri": "https://localhost:8080/"
        },
        "id": "KAc8NRkHoWDn",
        "outputId": "141c0145-6a14-4805-ffcc-3ff1a2f1554d"
      },
      "outputs": [],
      "source": [
        "box"
      ]
    },
    {
      "cell_type": "code",
      "execution_count": null,
      "metadata": {
        "colab": {
          "base_uri": "https://localhost:8080/",
          "height": 588
        },
        "id": "NdrPscVKmgiO",
        "outputId": "833bb124-5398-4ae8-e14e-691d59431604"
      },
      "outputs": [],
      "source": [
        "fig, ax = plt.subplots(figsize=(15,30))\n",
        "ax.imshow(new_image)\n",
        "count = 0\n",
        "for box in boxes:\n",
        "  box = box.split(' ')\n",
        "  box = box[1:5]\n",
        "  rect = patches.Rectangle((int(box[0]), int(box[2])), 20, 60, linewidth=2, edgecolor='r', facecolor='none')\n",
        "  ax.add_patch(rect)\n",
        "  count += 1\n",
        "  if count < 5:\n",
        "    break\n",
        "\n"
      ]
    },
    {
      "cell_type": "code",
      "execution_count": null,
      "metadata": {
        "id": "NKCMRHF6siuo"
      },
      "outputs": [],
      "source": []
    }
  ],
  "metadata": {
    "colab": {
      "authorship_tag": "ABX9TyP9clhJh/kn6c/sDNKdXKu1",
      "include_colab_link": true,
      "mount_file_id": "1WxFqslz_40mam29TGhsp619dWQWc_rst",
      "provenance": []
    },
    "kernelspec": {
      "display_name": "base",
      "language": "python",
      "name": "python3"
    },
    "language_info": {
      "name": "python",
      "version": "3.9.13 (main, Aug 25 2022, 23:51:50) [MSC v.1916 64 bit (AMD64)]"
    },
    "vscode": {
      "interpreter": {
        "hash": "42ea907b6be23323b50908fae17b17c2faa6f81c660fed0c76d4f9cac042bae6"
      }
    }
  },
  "nbformat": 4,
  "nbformat_minor": 0
}
