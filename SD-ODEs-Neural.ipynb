{
 "cells": [
  {
   "attachments": {},
   "cell_type": "markdown",
   "metadata": {},
   "source": [
    "# Sistemas Dinamicos y EDOs"
   ]
  },
  {
   "attachments": {},
   "cell_type": "markdown",
   "metadata": {},
   "source": [
    "## 1. Introduccion\n"
   ]
  },
  {
   "cell_type": "code",
   "execution_count": 1,
   "metadata": {},
   "outputs": [],
   "source": [
    "import numpy as np\n",
    "\n",
    "import matplotlib.pyplot as plt\n",
    "import matplotlib.image as mpimg\n",
    "%matplotlib inline"
   ]
  },
  {
   "cell_type": "code",
   "execution_count": 2,
   "metadata": {},
   "outputs": [],
   "source": [
    "from mpl_toolkits.mplot3d import Axes3D\n",
    "from matplotlib.animation import FuncAnimation\n",
    "from IPython.display import HTML"
   ]
  },
  {
   "cell_type": "code",
   "execution_count": 3,
   "metadata": {},
   "outputs": [],
   "source": [
    "import time\n",
    "\n",
    "import logging\n",
    "\n",
    "import statistics\n",
    "\n",
    "from typing import Optional, List"
   ]
  },
  {
   "cell_type": "code",
   "execution_count": 4,
   "metadata": {},
   "outputs": [],
   "source": [
    "import torch\n",
    "import torch.nn as nn\n",
    "import torch.utils.data as data\n",
    "import torch.nn.functional as F\n",
    "from torch.utils.data import Dataset"
   ]
  },
  {
   "cell_type": "code",
   "execution_count": 5,
   "metadata": {},
   "outputs": [],
   "source": [
    "import torchdiffeq"
   ]
  },
  {
   "cell_type": "code",
   "execution_count": 6,
   "metadata": {},
   "outputs": [],
   "source": [
    "import rich"
   ]
  },
  {
   "cell_type": "code",
   "execution_count": 7,
   "metadata": {},
   "outputs": [
    {
     "name": "stderr",
     "output_type": "stream",
     "text": [
      "Global seed set to 42\n"
     ]
    },
    {
     "data": {
      "text/plain": [
       "42"
      ]
     },
     "execution_count": 7,
     "metadata": {},
     "output_type": "execute_result"
    }
   ],
   "source": [
    "import pytorch_lightning as pl\n",
    "from torchmetrics.classification import Accuracy\n",
    "pl.seed_everything(42)"
   ]
  },
  {
   "cell_type": "code",
   "execution_count": 9,
   "metadata": {},
   "outputs": [
    {
     "name": "stdout",
     "output_type": "stream",
     "text": [
      "Discpositivo: cuda\n"
     ]
    }
   ],
   "source": [
    "torch.backends.cudnn.deterministic = True\n",
    "torch.backends.cudnn.benchmark = False\n",
    "device = torch.device(\"cuda\" if torch.cuda.is_available() else \"cpu\")\n",
    "print(f\"Discpositivo: {device}\")"
   ]
  },
  {
   "attachments": {},
   "cell_type": "markdown",
   "metadata": {},
   "source": [
    "### Sistemas Dinamicos\n",
    "\n",
    "Un **sistema dinamico** es una tripleta $$(\\mathcal{S}, \\mathcal{T}, \\Phi)$$ donde\n",
    "- $\\mathcal{S}$ es el *espacio de estados*\n",
    "- $\\mathcal{T}$ es el *espacio de parametros*,y\n",
    "- $\\Phi: (\\mathcal{T} \\times \\mathcal{S}) \\longrightarrow \\mathcal{S}$ es la evolucion.\n",
    "\n",
    "Observacion: En este trabajo usaremos EDOs donde $\\Phi$ sera una *general solution*: en efecto una familia uniparametroca de transformaciones del espacio de estados. $\\mathcal{T}=\\mathbb{R}_{+}$ es el tiempo, y usualmente, $\\mathcal{S}=\\mathbb{R}^{n}$ es el espacio de estados. La evolucion toma un punto en el espacio, un punto en el tiempo, y retorna un punto en el espacio. Este es el concepto de *flujo*. "
   ]
  },
  {
   "attachments": {},
   "cell_type": "markdown",
   "metadata": {},
   "source": [
    "## 1. Ecuaciones Diferenciales\n",
    "\n",
    "Trabajaremos con *problemas de valor inicial* (IVP, PVI) definidos por una EDO de primer orden, y un valor inicial:\n",
    "\n",
    "$$\\dot{y} = f(y, t), \\quad y(t_{0}) = y_{0},$$\n",
    "\n",
    "donde usaremos la notacion acortada $\\dot{y} := \\frac{\\mathrm{d}y}{\\mathrm{d}t}$.\n",
    "\n",
    "Una solucion general de una EDO es una funcion $y: I \\times \\mathbb{R}^{n} ⟶ \\mathbb{R}^{n}$: una familia uniparametrica de transformaciones del espacio de estado (usualmente el parametro es el tiempo). La existencia y unicidad de soluciones de un PVI se asegura con el teorema de  Picard-Lindel&ouml;f, provista que el lado derecho de la EDO sea *Lipschitz continua*."
   ]
  },
  {
   "cell_type": "code",
   "execution_count": null,
   "metadata": {},
   "outputs": [],
   "source": []
  }
 ],
 "metadata": {
  "kernelspec": {
   "display_name": "pytorch-C-DL",
   "language": "python",
   "name": "python3"
  },
  "language_info": {
   "codemirror_mode": {
    "name": "ipython",
    "version": 3
   },
   "file_extension": ".py",
   "mimetype": "text/x-python",
   "name": "python",
   "nbconvert_exporter": "python",
   "pygments_lexer": "ipython3",
   "version": "3.10.6"
  },
  "orig_nbformat": 4,
  "vscode": {
   "interpreter": {
    "hash": "85b52fbe45fd3d3f6426508f2b1ceb63e7294645d1a7097c9a6e2bd314b42ccf"
   }
  }
 },
 "nbformat": 4,
 "nbformat_minor": 2
}
